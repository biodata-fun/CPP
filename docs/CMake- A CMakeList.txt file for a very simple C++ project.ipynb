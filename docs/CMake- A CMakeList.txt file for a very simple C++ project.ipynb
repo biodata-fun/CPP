{
 "cells": [
  {
   "cell_type": "markdown",
   "metadata": {},
   "source": [
    "# Writing a simple CMaleList.txt file for your C++ project"
   ]
  },
  {
   "cell_type": "markdown",
   "metadata": {},
   "source": [
    "This post shows how to write a CMake file for building a C++ project containing a folder of source `.cpp` files and a directory containing header `.h` files. It tries to make life easier for me and for others, as it took me a while to figure out how to write a correct `CMakeList.txt` file for projects similar to this one"
   ]
  },
  {
   "cell_type": "markdown",
   "metadata": {},
   "source": [
    "You can see below a screenshot taken from the Project window of my IDE (CLion in this case). Here, you can see the relevant files:\n",
    "\n",
    "```\n",
    "include/add.h\n",
    "include/subtract.h\n",
    "\n",
    "src/add.cpp\n",
    "src/subtract.cpp\n",
    "\n",
    "main.cpp\n",
    "```"
   ]
  },
  {
   "cell_type": "markdown",
   "metadata": {},
   "source": [
    "![alt text](img/folder_strA.png)"
   ]
  },
  {
   "cell_type": "markdown",
   "metadata": {},
   "source": [
    "This test project contains a folder named `src` containing two `.cpp` files and also a folder named `include` containing two header files"
   ]
  },
  {
   "cell_type": "markdown",
   "metadata": {},
   "source": [
    "So how can you build this C++ project using CMake? As you know (read a CMake tutorial [here](https://medium.com/@varago.rafael/introduction-to-cmake-for-cpp-4c464272a239)), CMake uses a file named `CMakeList.txt` to build the project, and below you can see the correct `CMakeList` file for this project: "
   ]
  },
  {
   "cell_type": "markdown",
   "metadata": {},
   "source": [
    "```cmake\n",
    "cmake_minimum_required(VERSION 3.14)\n",
    "project(test_scripts)\n",
    "\n",
    "set(CMAKE_CXX_STANDARD 14)\n",
    "\n",
    "add_executable(test_scripts main.cpp)\n",
    "\n",
    "add_library(test_scripts_lib\n",
    "            src/add.cpp\n",
    "            src/subtract.cpp)\n",
    "\n",
    "target_include_directories(\n",
    "        test_scripts\n",
    "        PUBLIC\n",
    "        \"include\")\n",
    "\n",
    "target_link_libraries(test_scripts test_scripts_lib)\n",
    "```"
   ]
  },
  {
   "cell_type": "markdown",
   "metadata": {},
   "source": [
    "Let's analyse this `CMakeList` line by line:"
   ]
  },
  {
   "cell_type": "markdown",
   "metadata": {},
   "source": [
    "```cmake\n",
    "cmake_minimum_required(VERSION 3.14)\n",
    "```"
   ]
  },
  {
   "cell_type": "markdown",
   "metadata": {},
   "source": [
    "This sets the minimum required version of cmake for a project."
   ]
  },
  {
   "cell_type": "markdown",
   "metadata": {},
   "source": [
    "```cmake\n",
    "project(test_scripts)\n",
    "```"
   ]
  },
  {
   "cell_type": "code",
   "execution_count": null,
   "metadata": {},
   "outputs": [],
   "source": [
    "Sets the name of the project"
   ]
  },
  {
   "cell_type": "markdown",
   "metadata": {},
   "source": [
    "```cmake\n",
    "set(CMAKE_CXX_STANDARD 14)\n",
    "```"
   ]
  },
  {
   "cell_type": "code",
   "execution_count": null,
   "metadata": {},
   "outputs": [],
   "source": [
    "Controls the C++ standard used to build this project"
   ]
  },
  {
   "cell_type": "markdown",
   "metadata": {},
   "source": [
    "```cmake\n",
    "add_executable(test_scripts main.cpp)\n",
    "```"
   ]
  },
  {
   "cell_type": "markdown",
   "metadata": {},
   "source": [
    "Adds an executable target called `test_scripts` to be built from the `main.cpp` source file "
   ]
  },
  {
   "cell_type": "markdown",
   "metadata": {},
   "source": [
    "```cmake\n",
    "add_library(test_scripts_lib\n",
    "            src/add.cpp\n",
    "            src/subtract.cpp)\n",
    "```"
   ]
  },
  {
   "cell_type": "markdown",
   "metadata": {},
   "source": [
    "Adds a library target called `test_scripts_lib` to be built from the source files in the `src/` directory"
   ]
  },
  {
   "cell_type": "markdown",
   "metadata": {},
   "source": [
    "```cmake\n",
    "target_include_directories(\n",
    "        test_scripts\n",
    "        PUBLIC\n",
    "        \"include\")\n",
    "```"
   ]
  },
  {
   "cell_type": "markdown",
   "metadata": {},
   "source": [
    "Specifies the include directory to use when compiling the project target `test_scripts`. Path to the include directory can be absolute or relative. In this case we specify the directory named `include` that we have in our project"
   ]
  },
  {
   "cell_type": "markdown",
   "metadata": {},
   "source": [
    "```cmake\n",
    "target_link_libraries(test_scripts test_scripts_lib)\n",
    "```"
   ]
  },
  {
   "cell_type": "markdown",
   "metadata": {},
   "source": [
    "With this directive we are linking our project target (`test_scripts`) with the library target (`test_scripts_lib`)"
   ]
  },
  {
   "cell_type": "markdown",
   "metadata": {},
   "source": [
    "This post explains superficially how to build a really simple project. Feel free to explore the different options that each of the directives shown here have in the CMake documentation.\n",
    "Also, I plan to write more posts in the future about different CMakeList files that I have used for building my different C++ projecst"
   ]
  }
 ],
 "metadata": {
  "kernelspec": {
   "display_name": "Python 3",
   "language": "python",
   "name": "python3"
  },
  "language_info": {
   "codemirror_mode": {
    "name": "ipython",
    "version": 3
   },
   "file_extension": ".py",
   "mimetype": "text/x-python",
   "name": "python",
   "nbconvert_exporter": "python",
   "pygments_lexer": "ipython3",
   "version": "3.7.3"
  },
  "toc": {
   "nav_menu": {},
   "number_sections": true,
   "sideBar": true,
   "skip_h1_title": false,
   "title_cell": "Table of Contents",
   "title_sidebar": "Contents",
   "toc_cell": false,
   "toc_position": {},
   "toc_section_display": true,
   "toc_window_display": false
  }
 },
 "nbformat": 4,
 "nbformat_minor": 2
}
